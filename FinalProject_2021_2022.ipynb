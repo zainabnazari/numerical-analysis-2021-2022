{
 "cells": [
  {
   "cell_type": "code",
   "execution_count": 38,
   "metadata": {
    "id": "3fe94688"
   },
   "outputs": [],
   "source": [
    "%matplotlib inline\n",
    "from numpy import *\n",
    "from matplotlib.pyplot import *\n",
    "from matplotlib import pyplot as plt"
   ]
  },
  {
   "cell_type": "code",
   "execution_count": null,
   "metadata": {
    "id": "2yUETvkozE7b"
   },
   "outputs": [],
   "source": []
  },
  {
   "cell_type": "markdown",
   "metadata": {
    "id": "8184faab"
   },
   "source": [
    "Consider the following one-dimensional PDE:\n",
    "$$\n",
    "-u_{xx}(x) = f(x)\\quad\\mathrm{ in }\\ \\Omega = (0, \\pi)\n",
    "$$\n",
    "$$\n",
    "u(x) = 0, \\quad\\mathrm{ on }\\ \\partial\\Omega = \\{0, \\pi\\}\n",
    "$$\n",
    "\n",
    "Given the following $4^{th}$ order finite difference approximation of the second order derivative:\n",
    "\n",
    "$$u_{xx}(x_i) = \\frac{-u_{i-2}+16u_{i-1}-30u_i+16u_{i+1}-u_{i+2}}{12h^2}$$\n",
    "\n",
    "Implement a function that given the domain interval, the forcing function, the number of discretization points, the boundary conditions, returns the matrix $A$ and the the right hand side $b$."
   ]
  },
  {
   "cell_type": "code",
   "execution_count": 71,
   "metadata": {
    "id": "1c562f13"
   },
   "outputs": [],
   "source": [
    "def finDif(omega,f,n,bc):\n",
    "    length = omega[1] - omega[0]\n",
    "    h = length/(n-1)\n",
    "    \n",
    "    a2 = ones((n-2))\n",
    "    a1 = -16*ones((n-1))\n",
    "    a0 = 30*ones((n))\n",
    "    A = diag(a2, -2) + diag(a1, -1) + diag(a0) + diag(a1, +1) + diag(a2, +2)\n",
    "    A = A/(12*h**2)\n",
    "    \n",
    "    x = np.linspace(omega[0], omega[1], n)\n",
    "    b = f(x)\n",
    "    \n",
    "    # Boundary conditions\n",
    "    A[0,:] = 0\n",
    "    A[:,0] = 0\n",
    "    A[-1,:] = 0\n",
    "    A[:,-1] = 0\n",
    "    # Diagonal elements should be one\n",
    "    A[0,0] = 1\n",
    "    A[-1,-1] = 1\n",
    "    \n",
    "    b[0] = bc[0]\n",
    "    b[-1] = bc[1]\n",
    "    \n",
    "    return A, b"
   ]
  },
  {
   "cell_type": "markdown",
   "metadata": {
    "id": "c21bb21e"
   },
   "source": [
    "Call the function using:"
   ]
  },
  {
   "cell_type": "code",
   "execution_count": 81,
   "metadata": {
    "id": "23af8831"
   },
   "outputs": [],
   "source": [
    "omega = [0,pi]\n",
    "f = lambda x : sin(x)\n",
    "n=100\n",
    "bc = [0,0]\n",
    "A, b = finDif(omega, f, n, bc)"
   ]
  },
  {
   "cell_type": "code",
   "execution_count": 74,
   "metadata": {},
   "outputs": [
    {
     "data": {
      "text/plain": [
       "(array([[ 1.00000000e+00,  0.00000000e+00,  0.00000000e+00, ...,\n",
       "          0.00000000e+00,  0.00000000e+00,  0.00000000e+00],\n",
       "        [ 0.00000000e+00,  2.48262230e+03, -1.32406523e+03, ...,\n",
       "          0.00000000e+00,  0.00000000e+00,  0.00000000e+00],\n",
       "        [ 0.00000000e+00, -1.32406523e+03,  2.48262230e+03, ...,\n",
       "          0.00000000e+00,  0.00000000e+00,  0.00000000e+00],\n",
       "        ...,\n",
       "        [ 0.00000000e+00,  0.00000000e+00,  0.00000000e+00, ...,\n",
       "          2.48262230e+03, -1.32406523e+03,  0.00000000e+00],\n",
       "        [ 0.00000000e+00,  0.00000000e+00,  0.00000000e+00, ...,\n",
       "         -1.32406523e+03,  2.48262230e+03,  0.00000000e+00],\n",
       "        [ 0.00000000e+00,  0.00000000e+00,  0.00000000e+00, ...,\n",
       "          0.00000000e+00,  0.00000000e+00,  1.00000000e+00]]),\n",
       " array([0.        , 0.03172793, 0.06342392, 0.09505604, 0.12659245,\n",
       "        0.1580014 , 0.18925124, 0.22031053, 0.25114799, 0.28173256,\n",
       "        0.31203345, 0.34202014, 0.37166246, 0.40093054, 0.42979491,\n",
       "        0.45822652, 0.48619674, 0.51367739, 0.54064082, 0.56705986,\n",
       "        0.59290793, 0.61815899, 0.64278761, 0.666769  , 0.69007901,\n",
       "        0.71269417, 0.73459171, 0.75574957, 0.77614646, 0.79576184,\n",
       "        0.81457595, 0.83256985, 0.84972543, 0.8660254 , 0.88145336,\n",
       "        0.89599377, 0.909632  , 0.92235429, 0.93414786, 0.94500082,\n",
       "        0.95490224, 0.96384216, 0.97181157, 0.97880245, 0.98480775,\n",
       "        0.98982144, 0.99383846, 0.99685478, 0.99886734, 0.99987413,\n",
       "        0.99987413, 0.99886734, 0.99685478, 0.99383846, 0.98982144,\n",
       "        0.98480775, 0.97880245, 0.97181157, 0.96384216, 0.95490224,\n",
       "        0.94500082, 0.93414786, 0.92235429, 0.909632  , 0.89599377,\n",
       "        0.88145336, 0.8660254 , 0.84972543, 0.83256985, 0.81457595,\n",
       "        0.79576184, 0.77614646, 0.75574957, 0.73459171, 0.71269417,\n",
       "        0.69007901, 0.666769  , 0.64278761, 0.61815899, 0.59290793,\n",
       "        0.56705986, 0.54064082, 0.51367739, 0.48619674, 0.45822652,\n",
       "        0.42979491, 0.40093054, 0.37166246, 0.34202014, 0.31203345,\n",
       "        0.28173256, 0.25114799, 0.22031053, 0.18925124, 0.1580014 ,\n",
       "        0.12659245, 0.09505604, 0.06342392, 0.03172793, 0.        ]))"
      ]
     },
     "execution_count": 74,
     "metadata": {},
     "output_type": "execute_result"
    }
   ],
   "source": [
    "A, b"
   ]
  },
  {
   "cell_type": "markdown",
   "metadata": {
    "id": "4f8a7c6f"
   },
   "source": [
    "Implement two functions that compute the LU and the Cholesky factorization of the system matrix $A$"
   ]
  },
  {
   "cell_type": "code",
   "execution_count": 75,
   "metadata": {
    "id": "47468a37"
   },
   "outputs": [],
   "source": [
    "def LU(A):\n",
    "    # The LU factorization of the system matrix A\n",
    "    \n",
    "    A = A.copy()\n",
    "    N=len(A)\n",
    "    for k in range(N-1):\n",
    "        if (abs(A[k,k]) < 1e-15):\n",
    "            raise RuntimeError(\"Null pivot\")\n",
    "            \n",
    "        A[k+1:N,k] /= A[k,k]\n",
    "        for j in range(k+1,N):\n",
    "            A[k+1:N,j] -= A[k+1:N,k]*A[k,j]\n",
    "    \n",
    "    L=tril(A)\n",
    "    for i in range(N):\n",
    "        L[i,i]=1.0\n",
    "    U = triu(A)\n",
    "    return L, U\n",
    "\n",
    "L, U = LU(A)"
   ]
  },
  {
   "cell_type": "code",
   "execution_count": 76,
   "metadata": {
    "id": "193ebfed"
   },
   "outputs": [],
   "source": [
    "def cholesky(A):\n",
    "    # The Cholesky factorization of the system matrix A\n",
    "    \n",
    "    A = A.copy()\n",
    "    N = len(A)\n",
    "    for k in range(N-1):\n",
    "        A[k,k] = sqrt(A[k,k])\n",
    "        A[k+1:N,k] = A[k+1:N,k]/A[k,k]\n",
    "        \n",
    "        for j in range(k+1,N):\n",
    "            A[j:N,j] = A[j:N,j] - A[j:N,k]*A[j,k]\n",
    "        \n",
    "    A[-1,-1] = sqrt(A[-1,-1])\n",
    "    L=tril(A)\n",
    "    \n",
    "    return L, L.transpose()\n",
    "\n",
    "HT, H = cholesky(A)"
   ]
  },
  {
   "cell_type": "markdown",
   "metadata": {
    "id": "41eb8436"
   },
   "source": [
    "Implement forward and backward substitution functions to exploit the developed factorization methods to solve the derived linear system of equations."
   ]
  },
  {
   "cell_type": "code",
   "execution_count": 77,
   "metadata": {
    "id": "019cf0df"
   },
   "outputs": [],
   "source": [
    "def L_solve(L,rhs):\n",
    "    x = zeros_like(rhs)\n",
    "    N = len(L)\n",
    "        \n",
    "    x[0] = rhs[0]/L[0,0]\n",
    "    for i in range(1,N):\n",
    "        x[i] = (rhs[i] - dot(L[i, 0:i], x[0:i]))/L[i,i]\n",
    "    \n",
    "    return x"
   ]
  },
  {
   "cell_type": "code",
   "execution_count": 78,
   "metadata": {
    "id": "26ce17c4"
   },
   "outputs": [],
   "source": [
    "def U_solve(U,rhs):\n",
    "    x = zeros_like(rhs)\n",
    "    N=len(U)\n",
    "            \n",
    "    x[-1] = rhs[-1]/U[-1,-1]\n",
    "    for i in reversed(range(N-1)):\n",
    "        x[i] = (rhs[i] -dot(U[i, i+1:N], x[i+1:N]))/U[i,i]\n",
    "        \n",
    "    return x"
   ]
  },
  {
   "cell_type": "markdown",
   "metadata": {
    "id": "08ac9ba1"
   },
   "source": [
    "Solve the derived linear system using the implemented functions and plot the computed solution:"
   ]
  },
  {
   "cell_type": "code",
   "execution_count": 88,
   "metadata": {
    "id": "7c1de4f3"
   },
   "outputs": [
    {
     "data": {
      "image/png": "[encoded data removed]",
      "text/plain": [
       "<Figure size 720x504 with 1 Axes>"
      ]
     },
     "metadata": {
      "needs_background": "light"
     },
     "output_type": "display_data"
    }
   ],
   "source": [
    "x = np.linspace(omega[0], omega[1], n)\n",
    "\n",
    "w = L_solve(L,b)\n",
    "u = U_solve(U,w)\n",
    "\n",
    "# A1 = A.copy()\n",
    "# u = linalg.solve(A1, f(x))\n",
    "u_ex = np.sin(x)\n",
    "\n",
    "\n",
    "figure(figsize=(10,7))\n",
    "_ = plot(x,u,'ro', label='Estimated Solution')\n",
    "_ = plot(x,u_ex, label='Exact Solution')\n",
    "xlabel('t', fontsize=20)\n",
    "ylabel('y', fontsize=20)\n",
    "xticks(fontsize=14)\n",
    "yticks(fontsize=14)\n",
    "legend(fontsize=14);\n"
   ]
  },
  {
   "cell_type": "markdown",
   "metadata": {
    "id": "62cdfe65"
   },
   "source": [
    "Considering the new domain $\\Omega = (0,1)$ and the forcing term $f(x) = x(1-x)$ with B.C. $u(x) = 0$, on $\\partial \\Omega = {0,1}$ produce a plot and a table where you show the decay of the error w.r.t. the number of grid points.\n",
    "(The analytical solution for the above problems is $u_{an} = \\frac{x^4}{12} - \\frac{x^3}{6} + \\frac{x}{12}$)"
   ]
  },
  {
   "cell_type": "code",
   "execution_count": null,
   "metadata": {
    "id": "91212afb"
   },
   "outputs": [],
   "source": [
    "#TODO"
   ]
  },
  {
   "cell_type": "markdown",
   "metadata": {
    "id": "c8d5002f"
   },
   "source": [
    "Exploit the derived LU factorizations to compute the condition number of the system's matrix $A$ using the original problem formulation."
   ]
  },
  {
   "cell_type": "code",
   "execution_count": null,
   "metadata": {
    "id": "c25fc1fe"
   },
   "outputs": [],
   "source": [
    "def condNumb(A):\n",
    "    pass #TODO\n",
    "    return condNu"
   ]
  },
  {
   "cell_type": "markdown",
   "metadata": {
    "id": "2728b49a"
   },
   "source": [
    "Implement a preconditioned Conjugant Gradient method to solve the original linear system of equations using an iterative method:"
   ]
  },
  {
   "cell_type": "code",
   "execution_count": null,
   "metadata": {
    "id": "62b83aee"
   },
   "outputs": [],
   "source": [
    "def conjugate_gradient(A, b, P, nmax=len(A), eps=1e-10):\n",
    "    pass #TODO"
   ]
  },
  {
   "cell_type": "markdown",
   "metadata": {
    "id": "8a4cfc02"
   },
   "source": [
    "Consider the following time dependent variation of the PDE starting from the orginal problem formulation:\n",
    "$$\n",
    "u'(t)-u_{xx} = \\alpha(t)f(x)\n",
    "$$\n",
    "\n",
    "for $t\\in [0,T]$, with $\\alpha(t) = \\cos(t)$ and $T = 6\\pi$\n",
    "\n",
    "Use the same finite difference scheme to derive the semi-discrete formulation and solve it using a forward Euler's method.\n",
    "\n",
    "Plot the time dependent solution solution at $x = \\pi/2$, $x=1$, \n",
    "$x=\\pi$\n"
   ]
  },
  {
   "cell_type": "code",
   "execution_count": null,
   "metadata": {
    "id": "3ffe0689"
   },
   "outputs": [],
   "source": [
    "#TODO"
   ]
  },
  {
   "cell_type": "markdown",
   "metadata": {
    "id": "36936121"
   },
   "source": [
    "Given the original $Au = b$ system, implement an algorithm to compute the eigenvalues and eigenvectors of the matrix $A$. Exploit the computed LU factorization"
   ]
  },
  {
   "cell_type": "code",
   "execution_count": null,
   "metadata": {
    "id": "622aadf4"
   },
   "outputs": [],
   "source": [
    "#TODO"
   ]
  },
  {
   "cell_type": "markdown",
   "metadata": {
    "id": "85d5f64e"
   },
   "source": [
    "Compute the inverse of the matrix A exploiting the derived LU factorization"
   ]
  },
  {
   "cell_type": "code",
   "execution_count": null,
   "metadata": {
    "id": "6ad7199f"
   },
   "outputs": [],
   "source": [
    "#TODO"
   ]
  },
  {
   "cell_type": "markdown",
   "metadata": {
    "id": "cb22566e"
   },
   "source": [
    "\n",
    "**- Solving differential equation using backward Euler's method and Newton's method**\n",
    "\n",
    "Consider the following Cauchy problem\n",
    "$$\n",
    "\\begin{cases}\n",
    "y'= -ty^2 \\quad 0\\le t \\le 2\\\\\n",
    "y(0) = 1\n",
    "\\end{cases}\n",
    "$$\n",
    "Implement a Backward Euler's method in a suitable function and solve the resulting non-linear equation using a Newton's method."
   ]
  },
  {
   "cell_type": "code",
   "execution_count": 67,
   "metadata": {},
   "outputs": [],
   "source": [
    "def f(y, y_prev, h, t):\n",
    "    return y+h*t*y**2-y_prev\n",
    "\n",
    "def fp(y, h, t):\n",
    "    return 2*h*t*y+1\n",
    "\n",
    "def newtonMethod(g, gp, y0, e=1e-10, nIt_max=1000):\n",
    "    \n",
    "    n = 0\n",
    "    y = y0\n",
    "    err = 10\n",
    "\n",
    "    while(n < nIt_max and err > e):\n",
    "        yNew = y - g(y)/gp(y)\n",
    "        \n",
    "        err = abs(g(yNew))\n",
    "        \n",
    "        y = yNew\n",
    "        n += 1\n",
    "        \n",
    "    return y\n",
    "        \n",
    "def backwardEuler(y0, t0, t_end, n):\n",
    "    h = (t_end-t0)/n\n",
    "    t = arange(t0, t_end+h/2, h)\n",
    "    y = zeros_like(t)\n",
    "    y[0] = y0\n",
    "    \n",
    "    for i in range(1, t.size):\n",
    "        \n",
    "        g = lambda x: f(x, y[i-1], h, t[i])\n",
    "        gp = lambda x: fp(x, h, t[i])\n",
    "        y[i] = newtonMethod(g, gp, y0)\n",
    "        \n",
    "    return t, y\n",
    "\n",
    "def exactSolution(t):\n",
    "    return 2/(t**2+2)"
   ]
  },
  {
   "cell_type": "code",
   "execution_count": 66,
   "metadata": {},
   "outputs": [
    {
     "data": {
      "text/plain": [
       "<matplotlib.legend.Legend at 0x7fc1516f7e50>"
      ]
     },
     "execution_count": 66,
     "metadata": {},
     "output_type": "execute_result"
    },
    {
     "data": {
      "image/png": "[encoded data removed]",
      "text/plain": [
       "<Figure size 720x504 with 1 Axes>"
      ]
     },
     "metadata": {
      "needs_background": "light"
     },
     "output_type": "display_data"
    }
   ],
   "source": [
    "y0 = 1\n",
    "t0 = 0\n",
    "t_end = 2\n",
    "n = 20\n",
    "\n",
    "\n",
    "t, y = backwardEuler(y0, t0, t_end, n)\n",
    "\n",
    "figure(figsize=(10,7))\n",
    "plot(t, y, 'or', label='Backward Euler Solution')\n",
    "plot(t, exactSolution(t), label='Exact Solution')\n",
    "xlabel('t', fontsize=20)\n",
    "ylabel('y', fontsize=20)\n",
    "xticks(fontsize=14)\n",
    "yticks(fontsize=14)\n",
    "legend(fontsize=14);\n"
   ]
  },
  {
   "cell_type": "code",
   "execution_count": null,
   "metadata": {},
   "outputs": [],
   "source": []
  },
  {
   "cell_type": "code",
   "execution_count": null,
   "metadata": {},
   "outputs": [],
   "source": []
  },
  {
   "cell_type": "code",
   "execution_count": null,
   "metadata": {},
   "outputs": [],
   "source": []
  },
  {
   "cell_type": "code",
   "execution_count": null,
   "metadata": {},
   "outputs": [],
   "source": []
  },
  {
   "cell_type": "code",
   "execution_count": null,
   "metadata": {},
   "outputs": [],
   "source": []
  },
  {
   "cell_type": "code",
   "execution_count": null,
   "metadata": {},
   "outputs": [],
   "source": []
  }
 ],
 "metadata": {
  "colab": {
   "name": "FinalProject-2021-2022.ipynb",
   "provenance": []
  },
  "kernelspec": {
   "display_name": "Python 3",
   "language": "python",
   "name": "python3"
  },
  "language_info": {
   "codemirror_mode": {
    "name": "ipython",
    "version": 3
   },
   "file_extension": ".py",
   "mimetype": "text/x-python",
   "name": "python",
   "nbconvert_exporter": "python",
   "pygments_lexer": "ipython3",
   "version": "3.7.4"
  }
 },
 "nbformat": 4,
 "nbformat_minor": 5
}
